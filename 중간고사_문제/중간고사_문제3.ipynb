{
 "cells": [
  {
   "cell_type": "code",
   "execution_count": 144,
   "id": "ee9ad053-5670-4cb9-881c-e0b8aeb55c54",
   "metadata": {},
   "outputs": [],
   "source": [
    "import numpy as np\n",
    "import matplotlib.pyplot as plt"
   ]
  },
  {
   "cell_type": "code",
   "execution_count": 189,
   "id": "219550fe-ac48-4033-ae56-6a476f486da0",
   "metadata": {},
   "outputs": [],
   "source": [
    "x = 10\n",
    "learning_rate = 0.2\n",
    "precision = 0.00001\n",
    "max_iterations = 100"
   ]
  },
  {
   "cell_type": "code",
   "execution_count": 190,
   "id": "d8d25b26-96be-47db-9d10-39a6dd605424",
   "metadata": {},
   "outputs": [],
   "source": [
    "loss_func = lambda x: x**2-6*x+4"
   ]
  },
  {
   "cell_type": "code",
   "execution_count": 191,
   "id": "90226b64-7cf9-47b2-9a07-daa92b952ad7",
   "metadata": {},
   "outputs": [],
   "source": [
    "gradient = lambda x: 2*x-6"
   ]
  },
  {
   "cell_type": "code",
   "execution_count": 192,
   "id": "e4d1209d-4402-4808-b7d7-3d11ad0fc9ac",
   "metadata": {},
   "outputs": [
    {
     "name": "stdout",
     "output_type": "stream",
     "text": [
      "최소값 =  3.0000000000000004\n"
     ]
    },
    {
     "data": {
      "image/png": "[encoded data removed]",
      "text/plain": [
       "<Figure size 432x288 with 1 Axes>"
      ]
     },
     "metadata": {
      "needs_background": "light"
     },
     "output_type": "display_data"
    }
   ],
   "source": [
    "x_ax = np.arange(0,10.2,0.2)\n",
    "y_ax = np.array([])\n",
    "for i in x_ax:\n",
    "    y_ax = np.append(y_ax,np.array([loss_func(i)-gradient(i)]))\n",
    "plt.plot(x_ax,y_ax)\n",
    "for i in range(max_iterations):\n",
    "    x = x - learning_rate * gradient(x)\n",
    "    #print(\"손실함수값 (\", x, \")=\", loss_func(x))\n",
    "    plt.scatter(x,loss_func(x)-gradient(x), marker='*', color= 'orange')\n",
    "print(\"최소값 = \", x)\n",
    "plt.show()"
   ]
  },
  {
   "cell_type": "code",
   "execution_count": null,
   "id": "759a733a-08d5-4feb-9684-4cec6d00a20a",
   "metadata": {},
   "outputs": [],
   "source": []
  }
 ],
 "metadata": {
  "kernelspec": {
   "display_name": "Python 3 (ipykernel)",
   "language": "python",
   "name": "python3"
  },
  "language_info": {
   "codemirror_mode": {
    "name": "ipython",
    "version": 3
   },
   "file_extension": ".py",
   "mimetype": "text/x-python",
   "name": "python",
   "nbconvert_exporter": "python",
   "pygments_lexer": "ipython3",
   "version": "3.9.7"
  }
 },
 "nbformat": 4,
 "nbformat_minor": 5
}
