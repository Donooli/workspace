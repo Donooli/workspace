{
 "cells": [
  {
   "cell_type": "code",
   "execution_count": 3,
   "id": "1632080b-0ddf-4883-bb76-c04a36a82f5a",
   "metadata": {},
   "outputs": [],
   "source": [
    "import numpy as np\n",
    "import pandas as pd\n",
    "epsilon = 0.0000001"
   ]
  },
  {
   "cell_type": "code",
   "execution_count": 12,
   "id": "cb38d791-5211-4172-ae97-c44028255713",
   "metadata": {},
   "outputs": [],
   "source": [
    "def perceptron_or(x1, x2):\n",
    "    X = np.array([x1, x2])\n",
    "    W = np.array([0.5, 0.5])\n",
    "    B = -0.2\n",
    "    tmp = np.dot(W,X) + B\n",
    "    if tmp > epsilon:\n",
    "        return 1\n",
    "    else:\n",
    "        return 0"
   ]
  },
  {
   "cell_type": "code",
   "execution_count": 14,
   "id": "4051965d-ec3a-4e9a-b4e5-1909001a6cae",
   "metadata": {},
   "outputs": [],
   "source": [
    "arr = [\n",
    "    [0,0,perceptron_or(0,0)],\n",
    "    [0,1,perceptron_or(0,1)],\n",
    "    [1,0,perceptron_or(1,0)],\n",
    "    [1,1,perceptron_or(1,1)]\n",
    "]"
   ]
  },
  {
   "cell_type": "code",
   "execution_count": 17,
   "id": "45646231-d819-44b2-b9e6-40eb72ab323b",
   "metadata": {},
   "outputs": [
    {
     "name": "stdout",
     "output_type": "stream",
     "text": [
      "   x1  x2  y\n",
      "0   0   0  0\n",
      "1   0   1  1\n",
      "2   1   0  1\n",
      "3   1   1  1\n"
     ]
    }
   ],
   "source": [
    "df = pd.DataFrame(arr,columns=['x1','x2','y'])\n",
    "print(df)"
   ]
  },
  {
   "cell_type": "code",
   "execution_count": null,
   "id": "f4fe66ac-afc9-42b4-b5ce-57bf9f073f3c",
   "metadata": {},
   "outputs": [],
   "source": []
  }
 ],
 "metadata": {
  "kernelspec": {
   "display_name": "Python 3 (ipykernel)",
   "language": "python",
   "name": "python3"
  },
  "language_info": {
   "codemirror_mode": {
    "name": "ipython",
    "version": 3
   },
   "file_extension": ".py",
   "mimetype": "text/x-python",
   "name": "python",
   "nbconvert_exporter": "python",
   "pygments_lexer": "ipython3",
   "version": "3.9.7"
  }
 },
 "nbformat": 4,
 "nbformat_minor": 5
}
