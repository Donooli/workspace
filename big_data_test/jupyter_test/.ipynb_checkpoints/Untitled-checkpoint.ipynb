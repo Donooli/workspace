{
 "cells": [
  {
   "cell_type": "code",
   "execution_count": 123,
   "id": "a5e26fac-d7ce-4b38-8b16-8193ab64b0f8",
   "metadata": {},
   "outputs": [],
   "source": [
    "import asyncio\n",
    "import time"
   ]
  },
  {
   "cell_type": "code",
   "execution_count": 124,
   "id": "1669d751-0da1-4beb-b4cc-9af3134ead42",
   "metadata": {},
   "outputs": [],
   "source": [
    "global count\n",
    "count = 1"
   ]
  },
  {
   "cell_type": "code",
   "execution_count": 125,
   "id": "bd658ca6-4614-4df8-8f4a-36bc1dafec0f",
   "metadata": {},
   "outputs": [],
   "source": [
    "async def timer():\n",
    "    global count\n",
    "    count += 1\n",
    "    print(time.time())\n",
    "    await asyncio.sleep(1000)"
   ]
  },
  {
   "cell_type": "code",
   "execution_count": 126,
   "id": "ae3c7f6b-0200-4388-830c-45579593e866",
   "metadata": {},
   "outputs": [],
   "source": [
    "def pa():\n",
    "    print('a')"
   ]
  },
  {
   "cell_type": "code",
   "execution_count": 127,
   "id": "47a739a6-454b-456a-88a7-286e9978d388",
   "metadata": {},
   "outputs": [],
   "source": [
    "def pb():\n",
    "    print('b')"
   ]
  },
  {
   "cell_type": "code",
   "execution_count": 128,
   "id": "07670f04-0605-467f-ae97-9b8d0610f82e",
   "metadata": {},
   "outputs": [],
   "source": [
    "def pc():\n",
    "    print('c')"
   ]
  },
  {
   "cell_type": "code",
   "execution_count": 129,
   "id": "a4567b33-3067-4bb8-a640-ecb4378043eb",
   "metadata": {},
   "outputs": [
    {
     "name": "stderr",
     "output_type": "stream",
     "text": [
      "C:\\Users\\jdnl\\AppData\\Local\\Temp/ipykernel_4684/186807565.py:9: RuntimeWarning: coroutine 'timer' was never awaited\n",
      "  timer()\n",
      "RuntimeWarning: Enable tracemalloc to get the object allocation traceback\n"
     ]
    },
    {
     "ename": "KeyboardInterrupt",
     "evalue": "",
     "output_type": "error",
     "traceback": [
      "\u001b[1;31m---------------------------------------------------------------------------\u001b[0m",
      "\u001b[1;31mKeyboardInterrupt\u001b[0m                         Traceback (most recent call last)",
      "\u001b[1;32m~\\AppData\\Local\\Temp/ipykernel_4684/186807565.py\u001b[0m in \u001b[0;36m<module>\u001b[1;34m\u001b[0m\n\u001b[0;32m      7\u001b[0m         \u001b[1;32mif\u001b[0m \u001b[0mcount\u001b[0m\u001b[1;33m%\u001b[0m\u001b[1;36m60\u001b[0m \u001b[1;33m==\u001b[0m \u001b[1;36m0\u001b[0m\u001b[1;33m:\u001b[0m\u001b[1;33m\u001b[0m\u001b[1;33m\u001b[0m\u001b[0m\n\u001b[0;32m      8\u001b[0m             pc()'''\n\u001b[1;32m----> 9\u001b[1;33m         \u001b[0mtimer\u001b[0m\u001b[1;33m(\u001b[0m\u001b[1;33m)\u001b[0m\u001b[1;33m\u001b[0m\u001b[1;33m\u001b[0m\u001b[0m\n\u001b[0m",
      "\u001b[1;31mKeyboardInterrupt\u001b[0m: "
     ]
    }
   ],
   "source": [
    "if __name__ == '__main__':\n",
    "    while 1:\n",
    "        loop = asyncio.get_event_loop()\n",
    "        loop.run_until_complete(timer())\n",
    "        loop.close()"
   ]
  },
  {
   "cell_type": "code",
   "execution_count": null,
   "id": "5ae76579-f539-4fad-9e4b-95335bb0d23f",
   "metadata": {},
   "outputs": [],
   "source": []
  }
 ],
 "metadata": {
  "kernelspec": {
   "display_name": "Python 3 (ipykernel)",
   "language": "python",
   "name": "python3"
  },
  "language_info": {
   "codemirror_mode": {
    "name": "ipython",
    "version": 3
   },
   "file_extension": ".py",
   "mimetype": "text/x-python",
   "name": "python",
   "nbconvert_exporter": "python",
   "pygments_lexer": "ipython3",
   "version": "3.9.10"
  }
 },
 "nbformat": 4,
 "nbformat_minor": 5
}
