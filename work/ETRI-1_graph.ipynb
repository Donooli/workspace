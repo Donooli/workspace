{
 "cells": [
  {
   "cell_type": "code",
   "execution_count": 11,
   "id": "0230a692-7a35-4e38-9041-1ab712aedcd2",
   "metadata": {},
   "outputs": [],
   "source": [
    "import numpy as np\n",
    "import matplotlib.pyplot as plt"
   ]
  },
  {
   "cell_type": "code",
   "execution_count": 12,
   "id": "c87df6a6-1d3b-48f6-a966-6fa2e2791b60",
   "metadata": {},
   "outputs": [],
   "source": [
    "topics = ['one', 'two', 'three', 'four', 'five']\n",
    "x = range(len(topics))"
   ]
  },
  {
   "cell_type": "code",
   "execution_count": 13,
   "id": "16d40822-4f5d-4f97-b666-d5878e0b4c9e",
   "metadata": {},
   "outputs": [],
   "source": [
    "down = np.array([1,2,2,1,2])\n",
    "top = np.array([2,3,4,2,1])"
   ]
  },
  {
   "cell_type": "code",
   "execution_count": 14,
   "id": "8001f186-c0c3-45dd-b089-86003b4ca01b",
   "metadata": {},
   "outputs": [
    {
     "data": {
      "image/png": "[encoded data removed]",
      "text/plain": [
       "<Figure size 432x288 with 1 Axes>"
      ]
     },
     "metadata": {
      "needs_background": "light"
     },
     "output_type": "display_data"
    }
   ],
   "source": [
    "plt.bar(range(len(down)),down)\n",
    "plt.bar(range(len(top)),top, bottom=down)\n",
    "\n",
    "plt.legend(['loss','cache'])\n",
    "\n",
    "plt.title('TITLE')\n",
    "plt.xlabel('X LABEL')\n",
    "plt.ylabel('Y LABEL')\n",
    "\n",
    "ax = plt.subplot()\n",
    "ax.set_xticks(x)\n",
    "ax.set_xticklabels(topics)\n",
    "\n",
    "plt.show()"
   ]
  },
  {
   "cell_type": "code",
   "execution_count": null,
   "id": "a7c1d7a3-e55d-40ad-86d5-c1701ef4e75e",
   "metadata": {},
   "outputs": [],
   "source": []
  }
 ],
 "metadata": {
  "kernelspec": {
   "display_name": "Python 3 (ipykernel)",
   "language": "python",
   "name": "python3"
  },
  "language_info": {
   "codemirror_mode": {
    "name": "ipython",
    "version": 3
   },
   "file_extension": ".py",
   "mimetype": "text/x-python",
   "name": "python",
   "nbconvert_exporter": "python",
   "pygments_lexer": "ipython3",
   "version": "3.9.7"
  }
 },
 "nbformat": 4,
 "nbformat_minor": 5
}
