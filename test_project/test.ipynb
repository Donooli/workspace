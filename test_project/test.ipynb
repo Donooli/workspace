{
 "cells": [
  {
   "cell_type": "code",
   "execution_count": 1,
   "id": "88d4a669-b1dc-4b74-8be1-886da14d5165",
   "metadata": {},
   "outputs": [],
   "source": [
    "import os"
   ]
  },
  {
   "cell_type": "code",
   "execution_count": 15,
   "id": "e65796b7-abd3-46f3-83ef-401b779d5906",
   "metadata": {},
   "outputs": [],
   "source": [
    "asd = ['asd',1,234.1]"
   ]
  },
  {
   "cell_type": "code",
   "execution_count": 16,
   "id": "6bab04b9-6580-4cd8-b594-06d68966674d",
   "metadata": {},
   "outputs": [
    {
     "name": "stdout",
     "output_type": "stream",
     "text": [
      "asd 1 234.1\n"
     ]
    }
   ],
   "source": [
    "print(' '.join(str(s) for s in asd))"
   ]
  },
  {
   "cell_type": "code",
   "execution_count": 107,
   "id": "53216c1f-07a4-43bf-a6f1-e93f9b26b043",
   "metadata": {},
   "outputs": [
    {
     "name": "stdout",
     "output_type": "stream",
     "text": [
      "['1', '20220215035604', '49.4']\n"
     ]
    }
   ],
   "source": [
    "HW_cache = {\n",
    "                0:{\n",
    "                    0:{},   #CPU_1s_val\n",
    "                    1:{},   #CPU_1m_avg\n",
    "                    2:{}    #CPU_5m_peak\n",
    "                },\n",
    "                1:{\n",
    "                    0:{},   #RAM_5s_val\n",
    "                    1:{},   #RAM_5m_avg\n",
    "                },\n",
    "                2:{\n",
    "                    0:{},   #DISK_1m_val\n",
    "                    1:{},   #DISK_30m_avg\n",
    "                    2:{}    #CPU_peak_DISK\n",
    "                }\n",
    "            }\n",
    "\n",
    "msg = \"1 20220215035604 49.4\"\n",
    "msg_list = msg.split(' ')\n",
    "\n",
    "print(msg_list)"
   ]
  },
  {
   "cell_type": "code",
   "execution_count": 108,
   "id": "e3817adb-182f-471e-b1ce-fb4485a02765",
   "metadata": {},
   "outputs": [
    {
     "name": "stdout",
     "output_type": "stream",
     "text": [
      "{0: {0: {}, 1: {}, 2: {}}, 1: {0: {20220215035604: 49.4}, 1: {}}, 2: {0: {}, 1: {}, 2: {}}}\n"
     ]
    }
   ],
   "source": [
    "HW_cache[int(msg_list[0])][0][int(msg_list[1])] = float(msg_list[2])\n",
    "print(HW_cache)"
   ]
  },
  {
   "cell_type": "code",
   "execution_count": 114,
   "id": "94f0cea7-ff03-4fa3-8136-0a282c736638",
   "metadata": {},
   "outputs": [
    {
     "name": "stdout",
     "output_type": "stream",
     "text": [
      "20220215035604 49.4\n"
     ]
    }
   ],
   "source": [
    "for i,j in HW_cache[1][0].items():\n",
    "    print(i,j)"
   ]
  },
  {
   "cell_type": "code",
   "execution_count": 110,
   "id": "be3b92b9-7e77-46f0-a38d-d94b4c679727",
   "metadata": {},
   "outputs": [
    {
     "name": "stdout",
     "output_type": "stream",
     "text": [
      "1\n"
     ]
    }
   ],
   "source": [
    "print(len(HW_cache[1][0]))"
   ]
  },
  {
   "cell_type": "code",
   "execution_count": 111,
   "id": "d3ddce72-0feb-4362-b37f-e16057944df8",
   "metadata": {},
   "outputs": [],
   "source": [
    "sss = 20220215035614"
   ]
  },
  {
   "cell_type": "code",
   "execution_count": 112,
   "id": "7eee80f1-bcfd-46ef-935e-905e98f7f68b",
   "metadata": {},
   "outputs": [
    {
     "data": {
      "text/plain": [
       "14"
      ]
     },
     "execution_count": 112,
     "metadata": {},
     "output_type": "execute_result"
    }
   ],
   "source": [
    "sss % 100"
   ]
  },
  {
   "cell_type": "code",
   "execution_count": 113,
   "id": "6dc9cba1-fd7d-45d5-a7d7-f3591e31d688",
   "metadata": {},
   "outputs": [
    {
     "data": {
      "text/plain": [
       "49.4"
      ]
     },
     "execution_count": 113,
     "metadata": {},
     "output_type": "execute_result"
    }
   ],
   "source": [
    "sum(HW_cache[1][0].values())"
   ]
  },
  {
   "cell_type": "code",
   "execution_count": null,
   "id": "c4e0f8cf-5fee-4d97-b06c-4db1ba821a7f",
   "metadata": {},
   "outputs": [],
   "source": []
  }
 ],
 "metadata": {
  "kernelspec": {
   "display_name": "Python 3 (ipykernel)",
   "language": "python",
   "name": "python3"
  },
  "language_info": {
   "codemirror_mode": {
    "name": "ipython",
    "version": 3
   },
   "file_extension": ".py",
   "mimetype": "text/x-python",
   "name": "python",
   "nbconvert_exporter": "python",
   "pygments_lexer": "ipython3",
   "version": "3.9.10"
  }
 },
 "nbformat": 4,
 "nbformat_minor": 5
}
