{
 "cells": [
  {
   "cell_type": "code",
   "execution_count": 3,
   "id": "3fa0ed70-8817-4943-ac2b-a9f41f223f0d",
   "metadata": {},
   "outputs": [],
   "source": [
    "import sched"
   ]
  },
  {
   "cell_type": "code",
   "execution_count": null,
   "id": "fbebd687-2e13-4e60-a8d9-d5926ae57cb2",
   "metadata": {},
   "outputs": [],
   "source": []
  }
 ],
 "metadata": {
  "kernelspec": {
   "display_name": "Python 3 (ipykernel)",
   "language": "python",
   "name": "python3"
  },
  "language_info": {
   "codemirror_mode": {
    "name": "ipython",
    "version": 3
   },
   "file_extension": ".py",
   "mimetype": "text/x-python",
   "name": "python",
   "nbconvert_exporter": "python",
   "pygments_lexer": "ipython3",
   "version": "3.9.10"
  }
 },
 "nbformat": 4,
 "nbformat_minor": 5
}
