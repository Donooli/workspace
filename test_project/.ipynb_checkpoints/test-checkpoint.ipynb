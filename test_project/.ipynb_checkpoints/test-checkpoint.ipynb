{
 "cells": [
  {
   "cell_type": "code",
   "execution_count": 1,
   "id": "88d4a669-b1dc-4b74-8be1-886da14d5165",
   "metadata": {},
   "outputs": [],
   "source": [
    "import os"
   ]
  },
  {
   "cell_type": "code",
   "execution_count": 15,
   "id": "e65796b7-abd3-46f3-83ef-401b779d5906",
   "metadata": {},
   "outputs": [],
   "source": [
    "asd = ['asd',1,234.1]"
   ]
  },
  {
   "cell_type": "code",
   "execution_count": 16,
   "id": "6bab04b9-6580-4cd8-b594-06d68966674d",
   "metadata": {},
   "outputs": [
    {
     "name": "stdout",
     "output_type": "stream",
     "text": [
      "asd 1 234.1\n"
     ]
    }
   ],
   "source": [
    "print(' '.join(str(s) for s in asd))"
   ]
  },
  {
   "cell_type": "code",
   "execution_count": 80,
   "id": "53216c1f-07a4-43bf-a6f1-e93f9b26b043",
   "metadata": {},
   "outputs": [
    {
     "name": "stdout",
     "output_type": "stream",
     "text": [
      "['1', '20220215035604', '49.4']\n"
     ]
    }
   ],
   "source": [
    "HW_cache = {\n",
    "                0:{\n",
    "                    0:{},   #CPU_1s_val\n",
    "                    1:{},   #CPU_1m_avg\n",
    "                    2:{}    #CPU_5m_peak\n",
    "                },\n",
    "                1:{\n",
    "                    0:{},   #RAM_5s_val\n",
    "                    1:{},   #RAM_5m_avg\n",
    "                },\n",
    "                2:{\n",
    "                    0:{},   #DISK_1m_val\n",
    "                    1:{},   #DISK_30m_avg\n",
    "                    2:{}    #CPU_peak_DISK\n",
    "                }\n",
    "            }\n",
    "\n",
    "msg = \"1 20220215035604 49.4\"\n",
    "msg_list = msg.split(' ')\n",
    "print(msg_list)"
   ]
  },
  {
   "cell_type": "code",
   "execution_count": 81,
   "id": "e3817adb-182f-471e-b1ce-fb4485a02765",
   "metadata": {},
   "outputs": [],
   "source": [
    "HW_cache[int(msg_list[0])][0][int(msg_list[1])] = float(msg_list[2])\n"
   ]
  },
  {
   "cell_type": "code",
   "execution_count": 87,
   "id": "94f0cea7-ff03-4fa3-8136-0a282c736638",
   "metadata": {},
   "outputs": [
    {
     "ename": "AttributeError",
     "evalue": "'dict' object has no attribute 'valuse'",
     "output_type": "error",
     "traceback": [
      "\u001b[1;31m---------------------------------------------------------------------------\u001b[0m",
      "\u001b[1;31mAttributeError\u001b[0m                            Traceback (most recent call last)",
      "\u001b[1;32m~\\AppData\\Local\\Temp/ipykernel_8236/1599623858.py\u001b[0m in \u001b[0;36m<module>\u001b[1;34m\u001b[0m\n\u001b[1;32m----> 1\u001b[1;33m \u001b[1;32mfor\u001b[0m \u001b[0mi\u001b[0m \u001b[1;32min\u001b[0m \u001b[0mHW_cache\u001b[0m\u001b[1;33m[\u001b[0m\u001b[1;36m1\u001b[0m\u001b[1;33m]\u001b[0m\u001b[1;33m[\u001b[0m\u001b[1;36m0\u001b[0m\u001b[1;33m]\u001b[0m\u001b[1;33m.\u001b[0m\u001b[0mvaluse\u001b[0m\u001b[1;33m:\u001b[0m\u001b[1;33m\u001b[0m\u001b[1;33m\u001b[0m\u001b[0m\n\u001b[0m\u001b[0;32m      2\u001b[0m     \u001b[0mprint\u001b[0m\u001b[1;33m(\u001b[0m\u001b[0mi\u001b[0m\u001b[1;33m)\u001b[0m\u001b[1;33m\u001b[0m\u001b[1;33m\u001b[0m\u001b[0m\n",
      "\u001b[1;31mAttributeError\u001b[0m: 'dict' object has no attribute 'valuse'"
     ]
    }
   ],
   "source": [
    "for i in HW_cache[1][0].valuse:\n",
    "    print(i)"
   ]
  },
  {
   "cell_type": "code",
   "execution_count": 58,
   "id": "be3b92b9-7e77-46f0-a38d-d94b4c679727",
   "metadata": {},
   "outputs": [
    {
     "name": "stdout",
     "output_type": "stream",
     "text": [
      "0\n"
     ]
    }
   ],
   "source": [
    "print(len(HW_cache[0][0]))"
   ]
  },
  {
   "cell_type": "code",
   "execution_count": 75,
   "id": "d3ddce72-0feb-4362-b37f-e16057944df8",
   "metadata": {},
   "outputs": [],
   "source": [
    "sss = 20220215035614"
   ]
  },
  {
   "cell_type": "code",
   "execution_count": 76,
   "id": "7eee80f1-bcfd-46ef-935e-905e98f7f68b",
   "metadata": {},
   "outputs": [
    {
     "data": {
      "text/plain": [
       "14"
      ]
     },
     "execution_count": 76,
     "metadata": {},
     "output_type": "execute_result"
    }
   ],
   "source": [
    "sss % 100"
   ]
  },
  {
   "cell_type": "code",
   "execution_count": null,
   "id": "6dc9cba1-fd7d-45d5-a7d7-f3591e31d688",
   "metadata": {},
   "outputs": [],
   "source": []
  }
 ],
 "metadata": {
  "kernelspec": {
   "display_name": "Python 3 (ipykernel)",
   "language": "python",
   "name": "python3"
  },
  "language_info": {
   "codemirror_mode": {
    "name": "ipython",
    "version": 3
   },
   "file_extension": ".py",
   "mimetype": "text/x-python",
   "name": "python",
   "nbconvert_exporter": "python",
   "pygments_lexer": "ipython3",
   "version": "3.9.10"
  }
 },
 "nbformat": 4,
 "nbformat_minor": 5
}
