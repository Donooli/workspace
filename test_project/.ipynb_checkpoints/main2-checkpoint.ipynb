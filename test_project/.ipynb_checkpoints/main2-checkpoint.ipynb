{
 "cells": [
  {
   "cell_type": "code",
   "execution_count": 2,
   "id": "8ae4eb78-e367-45fb-9537-fc6c463f1c85",
   "metadata": {},
   "outputs": [],
   "source": [
    "import time\n",
    "import psutil\n",
    "import multiprocessing"
   ]
  },
  {
   "cell_type": "code",
   "execution_count": 3,
   "id": "ffa252ef-375a-4abd-9e5d-2ccc80a793e5",
   "metadata": {},
   "outputs": [],
   "source": [
    "def cpu_percent():\n",
    "    return psutil.cpu_percent(interval=1)"
   ]
  },
  {
   "cell_type": "code",
   "execution_count": 4,
   "id": "425d38c5-34a6-4c71-8f27-c785f57ef7f3",
   "metadata": {},
   "outputs": [],
   "source": [
    "def ram_percent():\n",
    "    return psutil.virtual_memory().percent"
   ]
  },
  {
   "cell_type": "code",
   "execution_count": 5,
   "id": "dea22866-5ee9-4ed5-bbc2-5c341c0f7674",
   "metadata": {},
   "outputs": [],
   "source": [
    "def disk_percent():\n",
    "    return psutil.disk_usage('c://').percent"
   ]
  },
  {
   "cell_type": "code",
   "execution_count": 65,
   "id": "26e17880-20d0-4339-918f-bcd8fb019b73",
   "metadata": {},
   "outputs": [],
   "source": [
    "def main():\n",
    "    cpu_use = dict()\n",
    "    cpu_use[1] = 123\n",
    "    cpu_use[2] = 234\n",
    "    cpu_use[3] = 345\n",
    "    cpu_use[4] = 456\n",
    "    cpu_use[5] = 567\n",
    "    for key,value in cpu_use.items():\n",
    "        print(value)\n",
    "    print(cpu_use[5])"
   ]
  },
  {
   "cell_type": "code",
   "execution_count": 66,
   "id": "855fc441-2e45-4531-be00-e9d185369877",
   "metadata": {},
   "outputs": [
    {
     "name": "stdout",
     "output_type": "stream",
     "text": [
      "123\n",
      "234\n",
      "345\n",
      "456\n",
      "567\n",
      "567\n"
     ]
    }
   ],
   "source": [
    "if __name__ == '__main__':\n",
    "    main()"
   ]
  },
  {
   "cell_type": "code",
   "execution_count": null,
   "id": "ee9da293-bdd2-43a1-8f6f-206c714d75a1",
   "metadata": {},
   "outputs": [],
   "source": []
  }
 ],
 "metadata": {
  "kernelspec": {
   "display_name": "Python 3 (ipykernel)",
   "language": "python",
   "name": "python3"
  },
  "language_info": {
   "codemirror_mode": {
    "name": "ipython",
    "version": 3
   },
   "file_extension": ".py",
   "mimetype": "text/x-python",
   "name": "python",
   "nbconvert_exporter": "python",
   "pygments_lexer": "ipython3",
   "version": "3.9.10"
  }
 },
 "nbformat": 4,
 "nbformat_minor": 5
}
